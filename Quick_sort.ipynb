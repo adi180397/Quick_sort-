{
  "nbformat": 4,
  "nbformat_minor": 0,
  "metadata": {
    "colab": {
      "provenance": [],
      "authorship_tag": "ABX9TyNSJSoQiC4XOicS4S21zTvP",
      "include_colab_link": true
    },
    "kernelspec": {
      "name": "python3",
      "display_name": "Python 3"
    },
    "language_info": {
      "name": "python"
    }
  },
  "cells": [
    {
      "cell_type": "markdown",
      "metadata": {
        "id": "view-in-github",
        "colab_type": "text"
      },
      "source": [
        "<a href=\"https://colab.research.google.com/github/adi180397/Quick_sort-/blob/main/Quick_sort.ipynb\" target=\"_parent\"><img src=\"https://colab.research.google.com/assets/colab-badge.svg\" alt=\"Open In Colab\"/></a>"
      ]
    },
    {
      "cell_type": "code",
      "execution_count": 4,
      "metadata": {
        "colab": {
          "base_uri": "https://localhost:8080/"
        },
        "id": "QzPxqW1yV2Qz",
        "outputId": "5965ebd0-5ebe-4560-877a-e76ca7c3657b"
      },
      "outputs": [
        {
          "output_type": "stream",
          "name": "stdout",
          "text": [
            "[12, 22, 31, 32, 45, 54, 78, 99]\n"
          ]
        }
      ],
      "source": [
        "def partition(arr,p,q):\n",
        "  pivot=arr[p] # here the pivot element is taken as the first element of the array\n",
        "  i=p\n",
        "  for j in  range(i+1,q+1):\n",
        "    if arr[j]<=pivot:\n",
        "      i+=1    # after updating the value of i swapping is done\n",
        "      arr[i],arr[j]=arr[j],arr[i]\n",
        "  arr[i],arr[p]=arr[p],arr[i] # after completion of the loop final swap occur between pivot element and ith element.\n",
        "  return i\n",
        "\n",
        "def Quicksort(arr,p,q):\n",
        "  if p<q:\n",
        "    # Divide and conquer\n",
        "    m=partition(arr,p,q) # this function divide array in to two parts\n",
        "    Quicksort(arr,p,m-1) # this recursion sort the left hand array\n",
        "    Quicksort(arr,m+1,q) # this recursion sort the right hand array\n",
        "  return arr\n",
        "\n",
        "# Driver code\n",
        "arr=[12,54,78,32,45,22,31,99]\n",
        "p=0\n",
        "q=len(arr)-1\n",
        "response=Quicksort(arr,p,q)\n",
        "print(response)"
      ]
    }
  ]
}